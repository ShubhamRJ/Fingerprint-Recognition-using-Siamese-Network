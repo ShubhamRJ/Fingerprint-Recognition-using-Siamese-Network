{
 "cells": [
  {
   "cell_type": "code",
   "execution_count": 1,
   "metadata": {},
   "outputs": [
    {
     "name": "stderr",
     "output_type": "stream",
     "text": [
      "Using TensorFlow backend.\n"
     ]
    }
   ],
   "source": [
    "import sys\n",
    "import numpy as np\n",
    "import pandas as pd\n",
    "from scipy.misc import imread\n",
    "import pickle\n",
    "import os\n",
    "import imageio\n",
    "import matplotlib.pyplot as plt\n",
    "%matplotlib inline\n",
    "\n",
    "import cv2\n",
    "import time\n",
    "\n",
    "import tensorflow as tf\n",
    "from keras.models import Sequential\n",
    "from keras.optimizers import Adam\n",
    "from keras.layers import Conv2D, ZeroPadding2D, Activation, Input, concatenate\n",
    "from keras.models import Model\n",
    "\n",
    "from keras.layers.normalization import BatchNormalization\n",
    "from keras.layers.pooling import MaxPooling2D\n",
    "from keras.layers.merge import Concatenate\n",
    "from keras.layers.core import Lambda, Flatten, Dense\n",
    "from keras.initializers import glorot_uniform\n",
    "\n",
    "from keras.engine.topology import Layer\n",
    "from keras.regularizers import l2\n",
    "from keras import backend as K\n",
    "\n",
    "from sklearn.utils import shuffle\n",
    "\n",
    "import numpy.random as rng"
   ]
  },
  {
   "cell_type": "code",
   "execution_count": 2,
   "metadata": {},
   "outputs": [],
   "source": [
    "train_folder= \"train\"\n",
    "test_folder = \"test\""
   ]
  },
  {
   "cell_type": "code",
   "execution_count": 3,
   "metadata": {},
   "outputs": [],
   "source": [
    "def loadimgs(path):\n",
    "    X=[]\n",
    "    y=[]\n",
    "    curr_y=1\n",
    "    p = os.path.join(path)\n",
    "    for folders in os.listdir(p):\n",
    "        images_path = os.path.join(p,folders)\n",
    "        category_images=[]\n",
    "        for image in os.listdir(images_path):\n",
    "            im_path = os.path.join(images_path,image)\n",
    "            image = imageio.imread(im_path)\n",
    "            category_images.append(image)\n",
    "            y.append(curr_y)\n",
    "        try:\n",
    "            X.append(np.stack(category_images))\n",
    "        except ValueError as e:\n",
    "            print(e)\n",
    "        curr_y+=1\n",
    "    y = np.vstack(y)\n",
    "    X = np.stack(X)\n",
    "    return X,y"
   ]
  },
  {
   "cell_type": "code",
   "execution_count": 4,
   "metadata": {},
   "outputs": [],
   "source": [
    "X_train,y_train = loadimgs(train_folder)\n",
    "X_test,y_test = loadimgs(test_folder)"
   ]
  },
  {
   "cell_type": "code",
   "execution_count": 5,
   "metadata": {},
   "outputs": [],
   "source": [
    "def initialize_weights(shape,name=None):\n",
    "    return np.random.normal(loc=0.0,scale=1e-2,size=shape)"
   ]
  },
  {
   "cell_type": "code",
   "execution_count": 54,
   "metadata": {},
   "outputs": [
    {
     "ename": "IndentationError",
     "evalue": "expected an indented block (<ipython-input-54-66a84de963bf>, line 2)",
     "output_type": "error",
     "traceback": [
      "\u001b[1;36m  File \u001b[1;32m\"<ipython-input-54-66a84de963bf>\"\u001b[1;36m, line \u001b[1;32m2\u001b[0m\n\u001b[1;33m    return np.random.normal(loc=0.5,scale=1e-2,size=shape)\u001b[0m\n\u001b[1;37m         ^\u001b[0m\n\u001b[1;31mIndentationError\u001b[0m\u001b[1;31m:\u001b[0m expected an indented block\n"
     ]
    }
   ],
   "source": [
    "def initialize_bias(shape,name=None):\n",
    "return np.random.normal(loc=0.5,scale=1e-2,size=shape)"
   ]
  },
  {
   "cell_type": "code",
   "execution_count": 70,
   "metadata": {},
   "outputs": [],
   "source": [
    "def get_siamese_model(input_shape):\n",
    "    left_input=Input(input_shape)\n",
    "    right_input=Input(input_shape)\n",
    "    \n",
    "    model = Sequential()\n",
    "    model.add(Conv2D(8,(16,11), activation='relu', input_shape=input_shape,\n",
    "                    kernel_initializer=initialize_weights,kernel_regularizer=l2(2e-4)))\n",
    "    model.add(MaxPooling2D())\n",
    "    model.add(Conv2D(16,(11,9), activation='relu', input_shape=input_shape,\n",
    "                    kernel_initializer=initialize_weights,kernel_regularizer=l2(2e-4)))\n",
    "    model.add(MaxPooling2D())\n",
    "    model.add(Conv2D(32,(5,5), activation='relu', input_shape=input_shape,\n",
    "                    kernel_initializer=initialize_weights,kernel_regularizer=l2(2e-4)))\n",
    "    model.add(MaxPooling2D())\n",
    "    model.add(Conv2D(64,(4,5), activation='relu', input_shape=input_shape,\n",
    "                    kernel_initializer=initialize_weights,kernel_regularizer=l2(2e-4)))\n",
    "    model.add(MaxPooling2D())\n",
    "    model.add(Conv2D(128,(3,3), activation='relu', input_shape=input_shape,\n",
    "                    kernel_initializer=initialize_weights,kernel_regularizer=l2(2e-4)))\n",
    "    model.add(MaxPooling2D())\n",
    "    model.add(Flatten())\n",
    "    model.add(Dense(2048,activation='sigmoid',kernel_regularizer=l2(1e-3),\n",
    "                   kernel_initializer=initialize_weights,bias_initializer=initialize_bias))\n",
    "    model.add(Dense(128,activation='sigmoid',kernel_regularizer=l2(1e-3),\n",
    "                   kernel_initializer=initialize_weights,bias_initializer=initialize_bias))\n",
    "    \n",
    "    encoded_l=model(left_input)\n",
    "    encoded_r=model(right_input)\n",
    "    \n",
    "    L1_layer = Lambda(lambda tensors:K.abs(tensors[0]-tensors[1]))\n",
    "    L1_distance=L1_layer([encoded_l,encoded_r])\n",
    "    \n",
    "    prediction=Dense(1,activation='sigmoid',bias_initializer=initialize_bias)(L1_distance)\n",
    "    \n",
    "    siamese_net = Model(inputs=[left_input,right_input],outputs=prediction)\n",
    "    \n",
    "    return siamese_net"
   ]
  },
  {
   "cell_type": "code",
   "execution_count": 72,
   "metadata": {},
   "outputs": [
    {
     "name": "stdout",
     "output_type": "stream",
     "text": [
      "__________________________________________________________________________________________________\n",
      "Layer (type)                    Output Shape         Param #     Connected to                     \n",
      "==================================================================================================\n",
      "input_17 (InputLayer)           (None, 400, 275, 1)  0                                            \n",
      "__________________________________________________________________________________________________\n",
      "input_18 (InputLayer)           (None, 400, 275, 1)  0                                            \n",
      "__________________________________________________________________________________________________\n",
      "sequential_9 (Sequential)       (None, 128)          12202616    input_17[0][0]                   \n",
      "                                                                 input_18[0][0]                   \n",
      "__________________________________________________________________________________________________\n",
      "lambda_5 (Lambda)               (None, 128)          0           sequential_9[1][0]               \n",
      "                                                                 sequential_9[2][0]               \n",
      "__________________________________________________________________________________________________\n",
      "dense_18 (Dense)                (None, 1)            129         lambda_5[0][0]                   \n",
      "==================================================================================================\n",
      "Total params: 12,202,745\n",
      "Trainable params: 12,202,745\n",
      "Non-trainable params: 0\n",
      "__________________________________________________________________________________________________\n"
     ]
    }
   ],
   "source": [
    "model = get_siamese_model((400,275,1))\n",
    "model.summary()"
   ]
  },
  {
   "cell_type": "code",
   "execution_count": 9,
   "metadata": {},
   "outputs": [],
   "source": [
    "optimizer = Adam(lr=0.00006)\n",
    "model.compile(loss='binary_crossentropy',optimizer=optimizer)"
   ]
  },
  {
   "cell_type": "code",
   "execution_count": 10,
   "metadata": {},
   "outputs": [],
   "source": [
    "def get_batch(batch_size,s=\"train\"):\n",
    "    if s=='train':\n",
    "        X = X_train\n",
    "    else:\n",
    "        X = X_test\n",
    "    \n",
    "    n_classes,n_examples,w,h = X.shape\n",
    "    categories = rng.choice(n_classes,size=(batch_size,),replace=False)\n",
    "    pairs = [np.zeros((batch_size,w,h,1)) for i in range(2)]\n",
    "    targets=np.zeros((batch_size,))\n",
    "    targets[batch_size//2:]=1\n",
    "    for i in range(batch_size):\n",
    "        category = categories[i]\n",
    "        id1=rng.randint(0,n_examples)\n",
    "        pairs[0][i,:,:,:]=X[category,id1].reshape(w,h,1)\n",
    "        id2=rng.randint(0,n_examples)\n",
    "        \n",
    "        if i>=batch_size//2:\n",
    "            category_2=category\n",
    "        else:\n",
    "            category_2=(category+rng.randint(1,n_classes))%n_classes\n",
    "        \n",
    "        pairs[1][i,:,:,:]=X[category_2,id2].reshape(w,h,1)\n",
    "    \n",
    "    return pairs,targets"
   ]
  },
  {
   "cell_type": "code",
   "execution_count": 11,
   "metadata": {},
   "outputs": [],
   "source": [
    "def generate(batch_size,s=\"train\"):\n",
    "    while True:\n",
    "        pairs,targets = get_batch(batch_size,s)\n",
    "        yield (pairs,targets)"
   ]
  },
  {
   "cell_type": "code",
   "execution_count": 12,
   "metadata": {},
   "outputs": [],
   "source": [
    "def make_oneshot_task(N,s=\"val\"):\n",
    "    if s=='train':\n",
    "        X = X_train\n",
    "    else:\n",
    "        X = X_test\n",
    "    n_classes,n_examples,w,h = X.shape\n",
    "    indices = rng.randint(0,n_examples,size=(N,))\n",
    "    categories = rng.choice(range(n_classes),size=(N,),replace=False)\n",
    "    true_category = categories[0]\n",
    "    ex1,ex2 = rng.choice(n_examples,size=(2,),replace=False)\n",
    "    test_image = np.asarray([X[true_category,ex1,:,:]]*N).reshape(N,w,h,1)\n",
    "    support_set= X[categories,indices,:,:]\n",
    "    support_set[0,:,:]=X[true_category,ex2]\n",
    "    support_set = support_set.reshape(N,w,h,1)\n",
    "    targets = np.zeros((N,))\n",
    "    targets[0]=1\n",
    "    targets,test_image,support_set = shuffle(targets,test_image,support_set)\n",
    "    pairs = [test_image,support_set]\n",
    "    return pairs,targets"
   ]
  },
  {
   "cell_type": "code",
   "execution_count": 13,
   "metadata": {},
   "outputs": [],
   "source": [
    "def test_oneshot(model,N,k,s='val',verbose=0):\n",
    "    n_correct=0\n",
    "    if verbose:\n",
    "        print(\"Evaluating model on {} random {} way one-shot learning tasks...\".format(k,N))\n",
    "    for i in range(k):\n",
    "        inputs,targets = make_oneshot_task(N,s)\n",
    "        probs = model.predict(inputs)\n",
    "        if np.argmax(probs)==np.argmax(targets):\n",
    "            n_correct+=1\n",
    "    percent_correct = (100.0*n_correct/k)\n",
    "    if verbose:\n",
    "        print(\"Got an average of {}% {} way one-shot learning accuracy\\n\".format(percent_correct,N))\n",
    "    return percent_correct"
   ]
  },
  {
   "cell_type": "code",
   "execution_count": 14,
   "metadata": {},
   "outputs": [],
   "source": [
    "evaluate_every = 200\n",
    "batch_size = 8\n",
    "n_iter = 2000\n",
    "N_way = 4\n",
    "n_val = 250\n",
    "best = -1"
   ]
  },
  {
   "cell_type": "code",
   "execution_count": 15,
   "metadata": {},
   "outputs": [],
   "source": [
    "model_path = './weights/'"
   ]
  },
  {
   "cell_type": "code",
   "execution_count": 16,
   "metadata": {
    "scrolled": true
   },
   "outputs": [
    {
     "name": "stdout",
     "output_type": "stream",
     "text": [
      "Starting training process!\n",
      "--------------------------------------------------------------------\n",
      "WARNING:tensorflow:From C:\\Users\\Hp\\Anaconda3\\lib\\site-packages\\tensorflow\\python\\ops\\math_ops.py:3066: to_int32 (from tensorflow.python.ops.math_ops) is deprecated and will be removed in a future version.\n",
      "Instructions for updating:\n",
      "Use tf.cast instead.\n",
      "---------------------------------------------\n",
      "Time for 200 iterations: 6.836723192532857 mins\n",
      "Train Loss: 0.8354560732841492\n",
      "Evaluating model on 250 random 4 way one-shot learning tasks...\n",
      "Got an average of 68.8% 4 way one-shot learning accuracy\n",
      "\n",
      "Current best: 68.8, previous best: -1\n",
      "---------------------------------------------\n",
      "Time for 400 iterations: 14.283040241400402 mins\n",
      "Train Loss: 0.5600456595420837\n",
      "Evaluating model on 250 random 4 way one-shot learning tasks...\n",
      "Got an average of 76.8% 4 way one-shot learning accuracy\n",
      "\n",
      "Current best: 76.8, previous best: 68.8\n",
      "---------------------------------------------\n",
      "Time for 600 iterations: 21.571604943275453 mins\n",
      "Train Loss: 0.48990046977996826\n",
      "Evaluating model on 250 random 4 way one-shot learning tasks...\n",
      "Got an average of 85.6% 4 way one-shot learning accuracy\n",
      "\n",
      "Current best: 85.6, previous best: 76.8\n",
      "---------------------------------------------\n",
      "Time for 800 iterations: 29.073004134496053 mins\n",
      "Train Loss: 0.8433436155319214\n",
      "Evaluating model on 250 random 4 way one-shot learning tasks...\n",
      "Got an average of 76.0% 4 way one-shot learning accuracy\n",
      "\n",
      "---------------------------------------------\n",
      "Time for 1000 iterations: 37.03334672053655 mins\n",
      "Train Loss: 0.31542667746543884\n",
      "Evaluating model on 250 random 4 way one-shot learning tasks...\n",
      "Got an average of 89.2% 4 way one-shot learning accuracy\n",
      "\n",
      "Current best: 89.2, previous best: 85.6\n",
      "---------------------------------------------\n",
      "Time for 1200 iterations: 44.75350208282471 mins\n",
      "Train Loss: 0.5075829029083252\n",
      "Evaluating model on 250 random 4 way one-shot learning tasks...\n",
      "Got an average of 82.0% 4 way one-shot learning accuracy\n",
      "\n",
      "---------------------------------------------\n",
      "Time for 1400 iterations: 52.241585874557494 mins\n",
      "Train Loss: 0.42770951986312866\n",
      "Evaluating model on 250 random 4 way one-shot learning tasks...\n",
      "Got an average of 86.8% 4 way one-shot learning accuracy\n",
      "\n",
      "---------------------------------------------\n",
      "Time for 1600 iterations: 59.84186628659566 mins\n",
      "Train Loss: 0.4578741192817688\n",
      "Evaluating model on 250 random 4 way one-shot learning tasks...\n",
      "Got an average of 86.8% 4 way one-shot learning accuracy\n",
      "\n",
      "---------------------------------------------\n",
      "Time for 1800 iterations: 67.59716930786769 mins\n",
      "Train Loss: 0.25710052251815796\n",
      "Evaluating model on 250 random 4 way one-shot learning tasks...\n",
      "Got an average of 85.6% 4 way one-shot learning accuracy\n",
      "\n",
      "---------------------------------------------\n",
      "Time for 2000 iterations: 75.26921317974727 mins\n",
      "Train Loss: 0.38351505994796753\n",
      "Evaluating model on 250 random 4 way one-shot learning tasks...\n",
      "Got an average of 92.0% 4 way one-shot learning accuracy\n",
      "\n",
      "Current best: 92.0, previous best: 89.2\n"
     ]
    }
   ],
   "source": [
    "print(\"Starting training process!\")\n",
    "print(\"--------------------------------------------------------------------\")\n",
    "t_start = time.time()\n",
    "for i in range(1,n_iter+1):\n",
    "    (inputs,targets)=get_batch(batch_size)\n",
    "    loss = model.train_on_batch(inputs,targets)\n",
    "    if i%evaluate_every == 0:\n",
    "        print(\"---------------------------------------------\")\n",
    "        print(\"Time for {0} iterations: {1} mins\".format(i, (time.time()-t_start)/60.0))\n",
    "        print(\"Train Loss: {0}\".format(loss)) \n",
    "        val_acc = test_oneshot(model, N_way, n_val, verbose=True)\n",
    "        model.save_weights(os.path.join(model_path, 'weights.{}.h5'.format(i)))\n",
    "        if val_acc >= best:\n",
    "            print(\"Current best: {0}, previous best: {1}\".format(val_acc, best))\n",
    "            best = val_acc"
   ]
  },
  {
   "cell_type": "code",
   "execution_count": 17,
   "metadata": {},
   "outputs": [],
   "source": [
    "ways = np.arange(1,10,2)\n",
    "trials = 50"
   ]
  },
  {
   "cell_type": "code",
   "execution_count": 18,
   "metadata": {},
   "outputs": [
    {
     "name": "stdout",
     "output_type": "stream",
     "text": [
      "Evaluating model on 50 random 1 way one-shot learning tasks...\n",
      "Got an average of 100.0% 1 way one-shot learning accuracy\n",
      "\n",
      "Evaluating model on 50 random 1 way one-shot learning tasks...\n",
      "Got an average of 100.0% 1 way one-shot learning accuracy\n",
      "\n",
      "---------------------------------------------------------------------------------------------------------------\n",
      "Evaluating model on 50 random 3 way one-shot learning tasks...\n",
      "Got an average of 90.0% 3 way one-shot learning accuracy\n",
      "\n",
      "Evaluating model on 50 random 3 way one-shot learning tasks...\n",
      "Got an average of 96.0% 3 way one-shot learning accuracy\n",
      "\n",
      "---------------------------------------------------------------------------------------------------------------\n",
      "Evaluating model on 50 random 5 way one-shot learning tasks...\n",
      "Got an average of 84.0% 5 way one-shot learning accuracy\n",
      "\n",
      "Evaluating model on 50 random 5 way one-shot learning tasks...\n",
      "Got an average of 84.0% 5 way one-shot learning accuracy\n",
      "\n",
      "---------------------------------------------------------------------------------------------------------------\n",
      "Evaluating model on 50 random 7 way one-shot learning tasks...\n",
      "Got an average of 78.0% 7 way one-shot learning accuracy\n",
      "\n",
      "Evaluating model on 50 random 7 way one-shot learning tasks...\n",
      "Got an average of 72.0% 7 way one-shot learning accuracy\n",
      "\n",
      "---------------------------------------------------------------------------------------------------------------\n",
      "Evaluating model on 50 random 9 way one-shot learning tasks...\n",
      "Got an average of 80.0% 9 way one-shot learning accuracy\n",
      "\n",
      "Evaluating model on 50 random 9 way one-shot learning tasks...\n",
      "Got an average of 76.0% 9 way one-shot learning accuracy\n",
      "\n",
      "---------------------------------------------------------------------------------------------------------------\n"
     ]
    }
   ],
   "source": [
    "val_accs, train_accs = [], []\n",
    "for N in ways:    \n",
    "    val_accs.append(test_oneshot(model, N, trials, \"val\", verbose=True))\n",
    "    train_accs.append(test_oneshot(model, N, trials, \"train\", verbose=True))\n",
    "    print(\"---------------------------------------------------------------------------------------------------------------\")"
   ]
  },
  {
   "cell_type": "code",
   "execution_count": 19,
   "metadata": {},
   "outputs": [
    {
     "data": {
      "image/png": "[encoded data removed]",
      "text/plain": [
       "<Figure size 432x288 with 1 Axes>"
      ]
     },
     "metadata": {
      "needs_background": "light"
     },
     "output_type": "display_data"
    }
   ],
   "source": [
    "fig,ax = plt.subplots(1)\n",
    "ax.plot(ways, val_accs, \"m\", label=\"Siamese(val set)\")\n",
    "ax.plot(ways, train_accs, \"y\", label=\"Siamese(train set)\")\n",
    "ax.plot(ways, 100.0/ways, \"g\", label=\"Random guessing\")\n",
    "plt.xlabel(\"Number of possible classes in one-shot tasks\")\n",
    "plt.ylabel(\"% Accuracy\")\n",
    "plt.title(\"Omiglot One-Shot Learning Performance of a Siamese Network\")\n",
    "box = ax.get_position()\n",
    "ax.set_position([box.x0, box.y0, box.width * 0.8, box.height])\n",
    "ax.legend(loc='center left', bbox_to_anchor=(1, 0.5))\n",
    "plt.show()"
   ]
  },
  {
   "cell_type": "code",
   "execution_count": 74,
   "metadata": {},
   "outputs": [
    {
     "name": "stdout",
     "output_type": "stream",
     "text": [
      "__________________________________________________________________________________________________\n",
      "Layer (type)                    Output Shape         Param #     Connected to                     \n",
      "==================================================================================================\n",
      "input_18 (InputLayer)           (None, 400, 275, 1)  0                                            \n",
      "__________________________________________________________________________________________________\n",
      "sequential_9 (Sequential)       (None, 128)          12202616    input_17[0][0]                   \n",
      "                                                                 input_18[0][0]                   \n",
      "==================================================================================================\n",
      "Total params: 12,202,616\n",
      "Trainable params: 12,202,616\n",
      "Non-trainable params: 0\n",
      "__________________________________________________________________________________________________\n"
     ]
    }
   ],
   "source": [
    "model.layers.pop(0)\n",
    "model.layers.pop()\n",
    "model.layers.pop()\n",
    "model.summary()"
   ]
  },
  {
   "cell_type": "code",
   "execution_count": 75,
   "metadata": {},
   "outputs": [],
   "source": [
    "model.build((400,275,1))"
   ]
  },
  {
   "cell_type": "code",
   "execution_count": 76,
   "metadata": {},
   "outputs": [],
   "source": [
    "img = imageio.imread('1a.jpg')"
   ]
  },
  {
   "cell_type": "code",
   "execution_count": 49,
   "metadata": {},
   "outputs": [],
   "source": [
    "l=[]\n",
    "l.append(img)\n",
    "l.append(img)"
   ]
  },
  {
   "cell_type": "code",
   "execution_count": 51,
   "metadata": {},
   "outputs": [],
   "source": [
    "l=np.array(l)"
   ]
  },
  {
   "cell_type": "code",
   "execution_count": 52,
   "metadata": {},
   "outputs": [
    {
     "data": {
      "text/plain": [
       "(2, 400, 275)"
      ]
     },
     "execution_count": 52,
     "metadata": {},
     "output_type": "execute_result"
    }
   ],
   "source": [
    "l.shape"
   ]
  },
  {
   "cell_type": "code",
   "execution_count": 77,
   "metadata": {},
   "outputs": [
    {
     "ename": "ValueError",
     "evalue": "Error when checking model input: the list of Numpy arrays that you are passing to your model is not the size the model expected. Expected to see 2 array(s), but instead got the following list of 1 arrays: [Array([[255, 255, 255, ..., 255, 255, 255],\n       [255, 255, 255, ..., 255, 255, 255],\n       [255, 255, 255, ..., 255, 255, 255],\n       ...,\n       [255, 255, 255, ..., 255, 255, 255],\n       [255...",
     "output_type": "error",
     "traceback": [
      "\u001b[1;31m---------------------------------------------------------------------------\u001b[0m",
      "\u001b[1;31mValueError\u001b[0m                                Traceback (most recent call last)",
      "\u001b[1;32m<ipython-input-77-a59b8e0bb15a>\u001b[0m in \u001b[0;36m<module>\u001b[1;34m\u001b[0m\n\u001b[1;32m----> 1\u001b[1;33m \u001b[0mmodel\u001b[0m\u001b[1;33m.\u001b[0m\u001b[0mpredict\u001b[0m\u001b[1;33m(\u001b[0m\u001b[0mimg\u001b[0m\u001b[1;33m)\u001b[0m\u001b[1;33m\u001b[0m\u001b[1;33m\u001b[0m\u001b[0m\n\u001b[0m",
      "\u001b[1;32m~\\Anaconda3\\lib\\site-packages\\keras\\engine\\training.py\u001b[0m in \u001b[0;36mpredict\u001b[1;34m(self, x, batch_size, verbose, steps)\u001b[0m\n\u001b[0;32m   1147\u001b[0m                              'argument.')\n\u001b[0;32m   1148\u001b[0m         \u001b[1;31m# Validate user data.\u001b[0m\u001b[1;33m\u001b[0m\u001b[1;33m\u001b[0m\u001b[1;33m\u001b[0m\u001b[0m\n\u001b[1;32m-> 1149\u001b[1;33m         \u001b[0mx\u001b[0m\u001b[1;33m,\u001b[0m \u001b[0m_\u001b[0m\u001b[1;33m,\u001b[0m \u001b[0m_\u001b[0m \u001b[1;33m=\u001b[0m \u001b[0mself\u001b[0m\u001b[1;33m.\u001b[0m\u001b[0m_standardize_user_data\u001b[0m\u001b[1;33m(\u001b[0m\u001b[0mx\u001b[0m\u001b[1;33m)\u001b[0m\u001b[1;33m\u001b[0m\u001b[1;33m\u001b[0m\u001b[0m\n\u001b[0m\u001b[0;32m   1150\u001b[0m         \u001b[1;32mif\u001b[0m \u001b[0mself\u001b[0m\u001b[1;33m.\u001b[0m\u001b[0mstateful\u001b[0m\u001b[1;33m:\u001b[0m\u001b[1;33m\u001b[0m\u001b[1;33m\u001b[0m\u001b[0m\n\u001b[0;32m   1151\u001b[0m             \u001b[1;32mif\u001b[0m \u001b[0mx\u001b[0m\u001b[1;33m[\u001b[0m\u001b[1;36m0\u001b[0m\u001b[1;33m]\u001b[0m\u001b[1;33m.\u001b[0m\u001b[0mshape\u001b[0m\u001b[1;33m[\u001b[0m\u001b[1;36m0\u001b[0m\u001b[1;33m]\u001b[0m \u001b[1;33m>\u001b[0m \u001b[0mbatch_size\u001b[0m \u001b[1;32mand\u001b[0m \u001b[0mx\u001b[0m\u001b[1;33m[\u001b[0m\u001b[1;36m0\u001b[0m\u001b[1;33m]\u001b[0m\u001b[1;33m.\u001b[0m\u001b[0mshape\u001b[0m\u001b[1;33m[\u001b[0m\u001b[1;36m0\u001b[0m\u001b[1;33m]\u001b[0m \u001b[1;33m%\u001b[0m \u001b[0mbatch_size\u001b[0m \u001b[1;33m!=\u001b[0m \u001b[1;36m0\u001b[0m\u001b[1;33m:\u001b[0m\u001b[1;33m\u001b[0m\u001b[1;33m\u001b[0m\u001b[0m\n",
      "\u001b[1;32m~\\Anaconda3\\lib\\site-packages\\keras\\engine\\training.py\u001b[0m in \u001b[0;36m_standardize_user_data\u001b[1;34m(self, x, y, sample_weight, class_weight, check_array_lengths, batch_size)\u001b[0m\n\u001b[0;32m    749\u001b[0m             \u001b[0mfeed_input_shapes\u001b[0m\u001b[1;33m,\u001b[0m\u001b[1;33m\u001b[0m\u001b[1;33m\u001b[0m\u001b[0m\n\u001b[0;32m    750\u001b[0m             \u001b[0mcheck_batch_axis\u001b[0m\u001b[1;33m=\u001b[0m\u001b[1;32mFalse\u001b[0m\u001b[1;33m,\u001b[0m  \u001b[1;31m# Don't enforce the batch size.\u001b[0m\u001b[1;33m\u001b[0m\u001b[1;33m\u001b[0m\u001b[0m\n\u001b[1;32m--> 751\u001b[1;33m             exception_prefix='input')\n\u001b[0m\u001b[0;32m    752\u001b[0m \u001b[1;33m\u001b[0m\u001b[0m\n\u001b[0;32m    753\u001b[0m         \u001b[1;32mif\u001b[0m \u001b[0my\u001b[0m \u001b[1;32mis\u001b[0m \u001b[1;32mnot\u001b[0m \u001b[1;32mNone\u001b[0m\u001b[1;33m:\u001b[0m\u001b[1;33m\u001b[0m\u001b[1;33m\u001b[0m\u001b[0m\n",
      "\u001b[1;32m~\\Anaconda3\\lib\\site-packages\\keras\\engine\\training_utils.py\u001b[0m in \u001b[0;36mstandardize_input_data\u001b[1;34m(data, names, shapes, check_batch_axis, exception_prefix)\u001b[0m\n\u001b[0;32m    100\u001b[0m                 \u001b[1;34m'Expected to see '\u001b[0m \u001b[1;33m+\u001b[0m \u001b[0mstr\u001b[0m\u001b[1;33m(\u001b[0m\u001b[0mlen\u001b[0m\u001b[1;33m(\u001b[0m\u001b[0mnames\u001b[0m\u001b[1;33m)\u001b[0m\u001b[1;33m)\u001b[0m \u001b[1;33m+\u001b[0m \u001b[1;34m' array(s), '\u001b[0m\u001b[1;33m\u001b[0m\u001b[1;33m\u001b[0m\u001b[0m\n\u001b[0;32m    101\u001b[0m                 \u001b[1;34m'but instead got the following list of '\u001b[0m \u001b[1;33m+\u001b[0m\u001b[1;33m\u001b[0m\u001b[1;33m\u001b[0m\u001b[0m\n\u001b[1;32m--> 102\u001b[1;33m                 str(len(data)) + ' arrays: ' + str(data)[:200] + '...')\n\u001b[0m\u001b[0;32m    103\u001b[0m         \u001b[1;32melif\u001b[0m \u001b[0mlen\u001b[0m\u001b[1;33m(\u001b[0m\u001b[0mnames\u001b[0m\u001b[1;33m)\u001b[0m \u001b[1;33m>\u001b[0m \u001b[1;36m1\u001b[0m\u001b[1;33m:\u001b[0m\u001b[1;33m\u001b[0m\u001b[1;33m\u001b[0m\u001b[0m\n\u001b[0;32m    104\u001b[0m             raise ValueError(\n",
      "\u001b[1;31mValueError\u001b[0m: Error when checking model input: the list of Numpy arrays that you are passing to your model is not the size the model expected. Expected to see 2 array(s), but instead got the following list of 1 arrays: [Array([[255, 255, 255, ..., 255, 255, 255],\n       [255, 255, 255, ..., 255, 255, 255],\n       [255, 255, 255, ..., 255, 255, 255],\n       ...,\n       [255, 255, 255, ..., 255, 255, 255],\n       [255..."
     ]
    }
   ],
   "source": [
    "model.predict(img)"
   ]
  },
  {
   "cell_type": "code",
   "execution_count": 78,
   "metadata": {},
   "outputs": [],
   "source": [
    "from keras.datasets import mnist"
   ]
  },
  {
   "cell_type": "code",
   "execution_count": 79,
   "metadata": {},
   "outputs": [
    {
     "name": "stdout",
     "output_type": "stream",
     "text": [
      "Downloading data from https://s3.amazonaws.com/img-datasets/mnist.npz\n",
      "11493376/11490434 [==============================] - 171s 15us/step\n"
     ]
    }
   ],
   "source": [
    "(x_train, y_train), (x_test, y_test) = mnist.load_data()"
   ]
  },
  {
   "cell_type": "code",
   "execution_count": null,
   "metadata": {},
   "outputs": [],
   "source": [
    "x_train.shape"
   ]
  },
  {
   "cell_type": "code",
   "execution_count": null,
   "metadata": {},
   "outputs": [],
   "source": []
  }
 ],
 "metadata": {
  "kernelspec": {
   "display_name": "Python 3",
   "language": "python",
   "name": "python3"
  },
  "language_info": {
   "codemirror_mode": {
    "name": "ipython",
    "version": 3
   },
   "file_extension": ".py",
   "mimetype": "text/x-python",
   "name": "python",
   "nbconvert_exporter": "python",
   "pygments_lexer": "ipython3",
   "version": "3.7.3"
  }
 },
 "nbformat": 4,
 "nbformat_minor": 2
}
